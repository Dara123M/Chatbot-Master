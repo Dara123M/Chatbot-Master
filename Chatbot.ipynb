{
 "cells": [
  {
   "cell_type": "code",
   "execution_count": 1,
   "metadata": {
    "_cell_guid": "b1076dfc-b9ad-4769-8c92-a6c4dae69d19",
    "_uuid": "8f2839f25d086af736a60e9eeb907d3b93b6e0e5",
    "execution": {
     "iopub.execute_input": "2021-08-12T17:48:47.799319Z",
     "iopub.status.busy": "2021-08-12T17:48:47.798749Z",
     "iopub.status.idle": "2021-08-12T17:48:55.290069Z",
     "shell.execute_reply": "2021-08-12T17:48:55.288983Z",
     "shell.execute_reply.started": "2021-08-12T17:48:47.799209Z"
    }
   },
   "outputs": [],
   "source": [
    "import re\n",
    "import nltk\n",
    "import numpy as np\n",
    "import tensorflow as tf\n",
    "from tensorflow import keras\n",
    "from keras.layers import Dense, Bidirectional, Input, Embedding, LSTM, GRU\n",
    "from keras import Model\n",
    "import time\n",
    "import matplotlib.pyplot as plt\n",
    "from tensorflow.keras.preprocessing import sequence\n",
    "from tensorflow.keras.layers import Layer\n",
    "from tensorflow.keras.utils import to_categorical, plot_model\n",
    "from sklearn import model_selection\n",
    "import random\n"
   ]
  },
  {
   "cell_type": "code",
   "execution_count": 2,
   "metadata": {
    "execution": {
     "iopub.execute_input": "2021-08-12T17:50:40.131113Z",
     "iopub.status.busy": "2021-08-12T17:50:40.130755Z",
     "iopub.status.idle": "2021-08-12T17:50:40.205572Z",
     "shell.execute_reply": "2021-08-12T17:50:40.204635Z",
     "shell.execute_reply.started": "2021-08-12T17:50:40.131084Z"
    }
   },
   "outputs": [],
   "source": [
    "\n",
    "class BahdanauAttention(Layer):\n",
    "    \n",
    "    def compute_output_shape(self, input_shape):\n",
    "        return [tf.TensorShape((input_shape[1][0], input_shape[1][1], input_shape[1][2])), tf.TensorShape((input_shape[1][0], input_shape[1][1], input_shape[0][1]))]\n",
    "   \n",
    "    \n",
    "    def __init__(self, **kwargs):\n",
    "        super(BahdanauAttention, self).__init__(**kwargs)\n",
    "    \n",
    "    def build(self, input_shape):\n",
    "        self.W1 = self.add_weight(name = 'W1', shape= tf.TensorShape((input_shape[0][2], input_shape[0][2])), initializer='uniform', trainable=True)\n",
    "        self.W2 = self.add_weight(name = 'W2', shape = tf.TensorShape((input_shape[1][2], input_shape[0][2])), initializer = 'uniform', trainable=True)\n",
    "        self.V = self.add_weight(name = 'V', shape = tf.TensorShape((input_shape[0][2], 1)), initializer = 'uniform', trainable=True)\n",
    "\n",
    "        super(BahdanauAttention, self).build(input_shape)\n",
    "\n",
    "    def call(self, inputs):\n",
    "        encoder_output_seq, decoder_output_seq = inputs\n",
    "\n",
    "        def energy_step(inputs, states):\n",
    "            encoder_seq_len, encoder_hidden = encoder_output_seq.shape[1], encoder_output_seq.shape[2]\n",
    "            decoder_hidden = inputs.shape[-1]\n",
    "\n",
    "            W1_dot_s = keras.backend.dot(encoder_output_seq, self.W1)\n",
    "\n",
    "            W2_dot_h = keras.backend.expand_dims(keras.backend.dot(inputs, self.W2), 1) \n",
    "            Ws_plus_Uh = keras.backend.tanh(W1_dot_s + W2_dot_h)\n",
    "            e_i = keras.backend.squeeze(keras.backend.dot(Ws_plus_Uh, self.V), axis=-1)\n",
    "            e_i = keras.backend.softmax(e_i)\n",
    "\n",
    "            return e_i, [e_i]\n",
    "\n",
    "\n",
    "        def context_step(inputs, states):\n",
    "            c_i = keras.backend.sum(encoder_output_seq * keras.backend.expand_dims(inputs, -1), axis=1)\n",
    "            return c_i, [c_i]\n",
    "    \n",
    "        fake_state_c = keras.backend.sum(encoder_output_seq, axis=1)\n",
    "        fake_state_e = keras.backend.sum(encoder_output_seq, axis=2)\n",
    "\n",
    "        last_out, e_outputs, _  = keras.backend.rnn(energy_step, decoder_output_seq, [fake_state_e],)\n",
    "        last_out, c_outputs, _ = keras.backend.rnn(context_step, e_outputs, [fake_state_c],)\n",
    "    \n",
    "        return c_outputs, e_outputs\n",
    "  \n",
    "    \n",
    "\n",
    "class Chatbot:\n",
    "    \n",
    "    def __init__(self, from_dict_size, to_dict_size, latent_dim, embedding_size, max_length_from, max_length_to):\n",
    "        self.encoder_input = keras.layers.Input(shape=(max_length_from, ), name = 'encoder_input')\n",
    "        self.decoder_input = keras.layers.Input(shape=(max_length_to, ), name = \"decoder_input\")\n",
    "        \n",
    "        self.encoder_embedding =keras.layers.Embedding(from_dict_size, embedding_size)(self.encoder_input)\n",
    "        \n",
    "        self.encoder_lstm = keras.layers.LSTM(latent_dim, return_sequences = True, return_state = True)\n",
    "        self.bidirectional = keras.layers.Bidirectional(self.encoder_lstm, name = 'bidirectional')\n",
    "        \n",
    "        self.encoder_outputs, fw_state_h, fw_state_c, bw_state_h, bw_state_c = self.bidirectional(self.encoder_embedding)\n",
    "        state_h = keras.layers.concatenate([fw_state_h, bw_state_h], axis = -1)\n",
    "        state_c = keras.layers.concatenate([fw_state_c, bw_state_c], axis = -1)\n",
    "        self.encoder_state = [state_h, state_c]\n",
    "        \n",
    "        self.decoder_embedding = keras.layers.Embedding(to_dict_size, embedding_size)(self.decoder_input)\n",
    "        self.decoder_lstm= keras.layers.LSTM(latent_dim, return_sequences = True, return_state = True)\n",
    "        self.decoder = keras.layers.LSTM(latent_dim*2, return_sequences = True, return_state = True)\n",
    "        decoder_out, _,_,_,_ = self.bidirectional(self.decoder_embedding)\n",
    "        decoder_out, _, _ = self.decoder_lstm(decoder_out)\n",
    "\n",
    "        self.decoder_outputs, _, _ = self.decoder(decoder_out, self.encoder_state)\n",
    "       \n",
    "        self.attention = BahdanauAttention()\n",
    "        attention_output, attention_state = self.attention([self.encoder_outputs, self.decoder_outputs])\n",
    "        decoder_concat_input = keras.layers.Concatenate(axis=-1)([self.decoder_outputs, attention_output])\n",
    "\n",
    "        \n",
    "        self.dense_output = Dense(to_dict_size//2, activation = 'relu')\n",
    "        self.dense_output1 = Dense(to_dict_size, activation = 'softmax')\n",
    "        self.decoder_output = self.dense_output(decoder_concat_input)\n",
    "        self.decoder_output = self.dense_output1(self.decoder_output)\n",
    "        self.model = Model([self.encoder_input, self.decoder_input], self.decoder_output)\n",
    "        self.optimizer = keras.optimizers.Adam(learning_rate = 0.05)\n",
    "        self.loss = keras.losses.CategoricalCrossentropy()\n",
    "        self.model.compile(self.optimizer, self.loss, metrics=[\"accuracy\"])\n",
    "        \n",
    "        \n",
    "    def train(self, encoder_input, decoder_input, decoder_output, encoder_input_val=None, decoder_input_val=None, decoder_output_val=None, batch_size=512, epoch = 3000):\n",
    "        checkpoint_filepath = 'checkpoint'+ time.strftime(\"%d%m%y%H%M\")+'.h5'\n",
    "        model_checkpoint_callback = tf.keras.callbacks.ModelCheckpoint(filepath=checkpoint_filepath, save_weights_only=True, monitor='val_accuracy', mode='max', save_best_only=True)\n",
    "        \n",
    "        model_scheduler_loss = tf.keras.callbacks.ReduceLROnPlateau(monitor='loss', factor=tf.math.exp(-0.1), patience=3, min_lr=0.00001, cooldown=20, verbose=1)\n",
    "        model_scheduler_acc = tf.keras.callbacks.ReduceLROnPlateau(monitor='accuracy', factor=tf.math.exp(-0.1), patience=3, min_lr=0.00001, cooldown=20, verbose=1)\n",
    "        self.history = self.model.fit([encoder_input, decoder_input], decoder_output, batch_size = batch_size, epochs = epoch,  validation_data = ([encoder_input_val, decoder_input_val], decoder_output_val), callbacks = [ model_scheduler_loss, model_scheduler_acc, model_checkpoint_callback])\n",
    "          \n",
    "        self.save_model()\n",
    "\n",
    "    def save_model(self):\n",
    "        path = \"s2s_\"+time.strftime(\"%d%m%y%H%M\") + \".h5\"\n",
    "        self.model.save(path)\n",
    "        \n",
    "    def load_model(self, path):\n",
    "        self.model = keras.models.load_model(path)\n",
    "        self.history = self.model.history()\n",
    "\n",
    "    def plot_model_loss(self, epoch = 3000):\n",
    "        epochs_vals = range(0, epoch)\n",
    "        losses=self.history.history['loss']\n",
    "        val_losses=self.history.history['val_loss']\n",
    "        plt.title('Losses')\n",
    "        plt.plot(epochs_vals, losses, label='train loss')\n",
    "        plt.plot(epochs_vals, val_losses, label='validation loss')\n",
    "        plt.legend(loc='best')\n",
    "    \n",
    "    def plot_model_acc(self, epoch = 3000):\n",
    "        epochs_vals = range(0, epoch)\n",
    "        acc=self.history.history['accuracy']\n",
    "        val_acc=self.history.history['val_accuracy']\n",
    "        plt.title('Accuracy')\n",
    "        plt.plot(epochs_vals, acc, label='train accuracy')\n",
    "        plt.plot(epochs_vals, val_acc, label='validation accuracy')\n",
    "        plt.legend(loc='best')\n",
    "    \n",
    "    def form_sentence(self, latent_size, encoder_inp, to_dict_rev, original_answ, max_answ_len):\n",
    "        enc_model, dec_model = inference(latent_size)\n",
    "        enc_output, state = enc_model.predict(encoder_inp)\n",
    "        \n",
    "        target = np.zeros((1, 1))\n",
    "        target[0,0] = from_dict['BOS']\n",
    "        ind = False\n",
    "        translation = ''\n",
    "        \n",
    "        while not ind:\n",
    "            decoder_outputs, state_h, state_c = dec_model.predict([target] + state)\n",
    "            attention_output, attention_state = self.attention([enc_output, decoder_outputs])\n",
    "            decoder_concat_input = keras.Concatenate(axis = -1)([decoder_outputs, attention_output])\n",
    "            decoder_concat_input = self.dense(decoder_concat_input)\n",
    "            decoder_concat_input = self.dense1(decoder_concat_input)\n",
    "            \n",
    "            from_categorical = np.argmax(decoder_concat_input[0, -1, :])\n",
    "            \n",
    "            word_from_categorical = to_dict_rev[from_categorical]+' '\n",
    "            \n",
    "            if word_from_categorical != 'EOS ':\n",
    "                translation += word_from_categorical\n",
    "                \n",
    "            if word_from_categorical == 'EOS ' or len(translation.split())>max_answ_len:\n",
    "                ind = True\n",
    "                \n",
    "            target = np.zeros((1, 1))\n",
    "            target[0,0] = word_from_categorical\n",
    "            state = [state_h, state_c]\n",
    "        \n",
    "        return translation\n",
    "        \n",
    "    \n",
    "    \n",
    "    def inference(self, latent_size):\n",
    "        encoder_model = Model(self.encoder_input, [self.encoder_outputs, self.encoder_states])\n",
    "        \n",
    "        decoder_input_h = Input(shape=(latent_size*2,))\n",
    "        decoder_input_c = Input(shape=(latent_size*2,))\n",
    "        decoder_output= self.bidirectional(self.decoder_embedding)[0]\n",
    "        \n",
    "        decoder_outputs, state_h, state_c = self.decoder(self.decoder_lstm(decoder_output), initial_state = [decoder_input_h, decoder_input_c])\n",
    "        decoder_model = Model([self.decoder_input, [decoder_input_h, decoder_input_c]], [self.decoder_outputs] + [state_h, state_c])\n",
    "        return encoder_model, decoder_model\n",
    "\n",
    "\n",
    "def preprocess():\n",
    "    lines = open(\"./dataset/movie_lines.txt\",\"r\", encoding='utf-8', errors= \"ignore\").read().split('\\n')\n",
    "    conversations = open('./dataset/pomocna1/movie_conversations.txt', 'r', encoding='utf-8', errors = 'ignore').read().split('\\n')\n",
    "    \n",
    "    movie_lines = {}\n",
    "    for line in lines:\n",
    "        line = line.split(' +++$+++ ')\n",
    "        movie_lines[line[0]] = line[-1]\n",
    "        \n",
    "    conversations = [conv.split(' +++$+++ ')[-1][1:-1].replace(\"'\",\"\").replace(',',\"\").split() for conv in conversations]\n",
    "    \n",
    "    questions = []\n",
    "    answers = []\n",
    "    \n",
    "    for conv in conversations:\n",
    "        for i in range(len(conv)-1):\n",
    "            questions.append(movie_lines[conv[i]])\n",
    "            answers.append(movie_lines[conv[i+1]])\n",
    "            \n",
    "    return questions, answers\n",
    "\n",
    "\n",
    "def common_sentence_length(sentences, percentile):\n",
    "    \n",
    "    sentence_lengths = [len(line.split()) for line in sentences]\n",
    "    \n",
    "    return int(np.percentile(sentence_lengths, percentile))\n",
    "\n",
    "def clean_text(text):\n",
    "    text = text.lower()\n",
    "    text = re.sub(r\"i'm\", r\"i am\", text)\n",
    "    text = re.sub(r\"\\'s\", r\" is\", text)\n",
    "    text = re.sub(r\"\\'ll\", \" will\", text)\n",
    "    text = re.sub(r\"\\'ve\", \" have\", text)\n",
    "    text = re.sub(r\"\\'re\", \" are\", text)\n",
    "    text = re.sub(r\"\\'d\", \" would\", text)\n",
    "    text = re.sub(r\"won't\", \"will not\", text)\n",
    "    text = re.sub(r\"n't\", \" not\", text)\n",
    "    text = re.sub(r\"n'\", \"ng\", text)\n",
    "    text = re.sub(r\"'bout\", \"about\", text)\n",
    "    text = re.sub(r\"'til\", \"until\", text)\n",
    "    text = re.sub(r\"thats\", r\"that is\", text)\n",
    "    text = re.sub(r\"\\'em\", r\"them\", text)\n",
    "    text = re.sub(r\"gonna\", r\"going to\", text)\n",
    "    text = re.sub(r\"cause\", r\"because\", text)\n",
    "    text = re.sub(r\"btw\", r\"by the way\", text)\n",
    "    text = re.sub(r'[^\\w\\s]', r'', text)\n",
    "    text = re.sub(r\"[!.?,*/|'\\_^\\+:;<>=#$-`~]\", r\"\", text) \n",
    "    text.strip()\n",
    "    return text\n",
    "\n",
    "\n",
    "def make_vocabulary(text, threshold=2):\n",
    "    \n",
    "    word_count = [['PAD', 0], ['BOS', 1], ['EOS', 2], ['UNK', 3]]\n",
    "    \n",
    "    tokenized_text = nltk.tokenize.word_tokenize(text)\n",
    "    counter = nltk.Counter(tokenized_text)\n",
    "\n",
    "    \n",
    "    counter = [item for item in counter.items() if item[1]>=threshold]\n",
    "\n",
    "    del(tokenized_text)\n",
    "    for w, c in counter:\n",
    "        word_count.append([w, c])\n",
    " \n",
    "    dictionary = {}\n",
    "    \n",
    "    for word,_ in word_count:\n",
    "        dictionary[word] = len(dictionary)\n",
    "       \n",
    "    unk_count = 0\n",
    "    data= []\n",
    "    for word in text.split():\n",
    "        index = dictionary.get(word, 0)\n",
    "        if index == 0:\n",
    "            unk_count+=1\n",
    "        data.append(index)\n",
    "    del(word)\n",
    "    word_count[0][1] = unk_count\n",
    "    \n",
    "    reverse_dictionary = dict(zip(dictionary.values(), dictionary.keys()))\n",
    "    return data, word_count, dictionary, reverse_dictionary\n",
    "\n",
    "def add_bos(texts):\n",
    "    return ['BOS '+text for text in texts]\n",
    "\n",
    "def add_eos(texts):\n",
    "    return [text+\" EOS\" for text in texts]\n",
    "\n",
    "\n",
    "def make_encoder_decoder_inputs(questions, answers, dict_from, dict_to):\n",
    "    encoder_input = []\n",
    "    decoder_input = []\n",
    "\n",
    "    for line in questions:\n",
    "        lst = []\n",
    "        for word in line.split():\n",
    "            if word not in dict_from.keys():\n",
    "                lst.append(dict_from['UNK'])\n",
    "            else:\n",
    "                lst.append(dict_from[word])\n",
    "    \n",
    "        encoder_input.append(lst)\n",
    "        del(lst)\n",
    "    del(line)\n",
    "    for line in answers:\n",
    "        lst = []\n",
    "        for word in line.split():\n",
    "            if word not in dict_to.keys():\n",
    "                lst.append(dict_to['UNK'])\n",
    "            else:\n",
    "                lst.append(dict_to[word])\n",
    "        decoder_input.append(lst)\n",
    "        del(lst)\n",
    "    \n",
    "    del(line)\n",
    "    return encoder_input, decoder_input\n",
    "\n",
    "def pad_sentences(encoder_inputs, decoder_inputs, encoder_max_sent_length, decoder_max_sent_length, dict_to_size):\n",
    "    \n",
    "    encoder_inputs = sequence.pad_sequences(encoder_inputs, encoder_max_sent_length, padding=\"post\", truncating=\"post\")\n",
    "    decoder_inputs = sequence.pad_sequences(decoder_inputs, decoder_max_sent_length, padding=\"post\", truncating=\"post\")\n",
    "    decoder_final_outputs = []\n",
    "\n",
    "    for di in decoder_inputs:\n",
    "        decoder_final_outputs.append(di[1:])\n",
    "\n",
    "    decoder_final_outputs = sequence.pad_sequences(decoder_final_outputs, decoder_max_sent_length, padding='post', truncating='post')\n",
    "    decoder_final_outputs = to_categorical(decoder_final_outputs, dict_to_size, dtype='int16')\n",
    "    return encoder_inputs, decoder_inputs, decoder_final_outputs\n"
   ]
  },
  {
   "cell_type": "code",
   "execution_count": 3,
   "metadata": {
    "execution": {
     "iopub.execute_input": "2021-08-12T17:51:47.702423Z",
     "iopub.status.busy": "2021-08-12T17:51:47.701889Z",
     "iopub.status.idle": "2021-08-12T17:52:01.814977Z",
     "shell.execute_reply": "2021-08-12T17:52:01.814207Z",
     "shell.execute_reply.started": "2021-08-12T17:51:47.702378Z"
    }
   },
   "outputs": [],
   "source": [
    "questions, answers = preprocess()\n",
    "\n",
    "clean_questions = [clean_text(q) for q in questions]\n",
    "clean_answers = [clean_text(a) for a in answers]\n",
    "del(questions, answers)\n",
    "pairs = list(zip(clean_questions, clean_answers))\n",
    "\n",
    "max_quest_length = 8\n",
    "max_answ_length = 6 \n",
    "del(clean_questions, clean_answers)\n",
    "questions = [p[0] for p in pairs if len(p[0].split())<=max_quest_length and len(p[1].split())<=max_answ_length and len(p[0].split())>=2 and len(p[1].split())>=2]\n",
    "answers = [p[1] for p in pairs if len(p[0].split())<=max_quest_length and len(p[1].split()) <=max_answ_length and len(p[0].split())>=2 and len(p[1].split())>=2]\n",
    "\n"
   ]
  },
  {
   "cell_type": "code",
   "execution_count": 5,
   "metadata": {
    "execution": {
     "iopub.execute_input": "2021-08-12T17:52:01.829018Z",
     "iopub.status.busy": "2021-08-12T17:52:01.828600Z",
     "iopub.status.idle": "2021-08-12T17:52:04.636689Z",
     "shell.execute_reply": "2021-08-12T17:52:04.635587Z",
     "shell.execute_reply.started": "2021-08-12T17:52:01.828987Z"
    }
   },
   "outputs": [],
   "source": [
    "vocab_data, vocab_word_count, vocab_dict, vocab_dict_rev = make_vocabulary(' '.join(questions + answers), 2)"
   ]
  },
  {
   "cell_type": "code",
   "execution_count": 7,
   "metadata": {
    "execution": {
     "iopub.execute_input": "2021-08-12T17:53:02.673642Z",
     "iopub.status.busy": "2021-08-12T17:53:02.673266Z",
     "iopub.status.idle": "2021-08-12T17:53:02.687842Z",
     "shell.execute_reply": "2021-08-12T17:53:02.686711Z",
     "shell.execute_reply.started": "2021-08-12T17:53:02.673613Z"
    }
   },
   "outputs": [],
   "source": [
    "answers = add_bos(answers)\n",
    "answers = add_eos(answers)"
   ]
  },
  {
   "cell_type": "code",
   "execution_count": 8,
   "metadata": {
    "execution": {
     "iopub.execute_input": "2021-08-12T17:53:11.024204Z",
     "iopub.status.busy": "2021-08-12T17:53:11.023845Z",
     "iopub.status.idle": "2021-08-12T17:53:11.485717Z",
     "shell.execute_reply": "2021-08-12T17:53:11.484838Z",
     "shell.execute_reply.started": "2021-08-12T17:53:11.024174Z"
    }
   },
   "outputs": [],
   "source": [
    "encoder_input, decoder_input = make_encoder_decoder_inputs(questions, answers, vocab_dict, vocab_dict)\n"
   ]
  },
  {
   "cell_type": "code",
   "execution_count": null,
   "metadata": {
    "execution": {
     "iopub.execute_input": "2021-08-03T05:11:40.128745Z",
     "iopub.status.busy": "2021-08-03T05:11:40.128343Z",
     "iopub.status.idle": "2021-08-03T05:11:40.138384Z",
     "shell.execute_reply": "2021-08-03T05:11:40.136845Z",
     "shell.execute_reply.started": "2021-08-03T05:11:40.128714Z"
    }
   },
   "outputs": [],
   "source": [
    "del(questions, answers)"
   ]
  },
  {
   "cell_type": "code",
   "execution_count": 9,
   "metadata": {
    "execution": {
     "iopub.execute_input": "2021-08-12T17:53:21.209934Z",
     "iopub.status.busy": "2021-08-12T17:53:21.209326Z",
     "iopub.status.idle": "2021-08-12T17:53:21.278390Z",
     "shell.execute_reply": "2021-08-12T17:53:21.277459Z",
     "shell.execute_reply.started": "2021-08-12T17:53:21.209884Z"
    }
   },
   "outputs": [],
   "source": [
    "encoder_input_train, encoder_input_test, decoder_input_train, decoder_input_test = model_selection.train_test_split(encoder_input, decoder_input, test_size = 0.2)\n",
    "encoder_input_train, encoder_input_val, decoder_input_train, decoder_input_val = model_selection.train_test_split(encoder_input_train, decoder_input_train, test_size = 0.2)"
   ]
  },
  {
   "cell_type": "code",
   "execution_count": 10,
   "metadata": {
    "execution": {
     "iopub.execute_input": "2021-08-12T17:53:25.165840Z",
     "iopub.status.busy": "2021-08-12T17:53:25.165461Z",
     "iopub.status.idle": "2021-08-12T17:53:26.509483Z",
     "shell.execute_reply": "2021-08-12T17:53:26.508508Z",
     "shell.execute_reply.started": "2021-08-12T17:53:25.165805Z"
    }
   },
   "outputs": [],
   "source": [
    "encoder_input_train, decoder_input_train, decoder_output_train = pad_sentences(encoder_input_train, decoder_input_train, max_quest_length, max_answ_length+2, len(vocab_dict))\n",
    "encoder_input_val, decoder_input_val, decoder_output_val = pad_sentences(encoder_input_val, decoder_input_val, max_quest_length, max_answ_length+2, len(vocab_dict))\n",
    "\n"
   ]
  },
  {
   "cell_type": "code",
   "execution_count": 11,
   "metadata": {
    "execution": {
     "iopub.execute_input": "2021-08-12T17:53:39.054409Z",
     "iopub.status.busy": "2021-08-12T17:53:39.054016Z",
     "iopub.status.idle": "2021-08-12T17:53:41.713891Z",
     "shell.execute_reply": "2021-08-12T17:53:41.712715Z",
     "shell.execute_reply.started": "2021-08-12T17:53:39.054375Z"
    }
   },
   "outputs": [],
   "source": [
    "model = Chatbot(len(vocab_dict), len(vocab_dict), 32, 20, max_quest_length,max_answ_length+2)"
   ]
  },
  {
   "cell_type": "code",
   "execution_count": 12,
   "metadata": {
    "execution": {
     "iopub.execute_input": "2021-08-12T17:53:45.101303Z",
     "iopub.status.busy": "2021-08-12T17:53:45.100882Z",
     "iopub.status.idle": "2021-08-12T17:53:45.115320Z",
     "shell.execute_reply": "2021-08-12T17:53:45.114289Z",
     "shell.execute_reply.started": "2021-08-12T17:53:45.101262Z"
    }
   },
   "outputs": [
    {
     "name": "stdout",
     "output_type": "stream",
     "text": [
      "Model: \"model\"\n",
      "__________________________________________________________________________________________________\n",
      "Layer (type)                    Output Shape         Param #     Connected to                     \n",
      "==================================================================================================\n",
      "decoder_input (InputLayer)      [(None, 8)]          0                                            \n",
      "__________________________________________________________________________________________________\n",
      "encoder_input (InputLayer)      [(None, 8)]          0                                            \n",
      "__________________________________________________________________________________________________\n",
      "embedding_1 (Embedding)         (None, 8, 20)        186420      decoder_input[0][0]              \n",
      "__________________________________________________________________________________________________\n",
      "embedding (Embedding)           (None, 8, 20)        186420      encoder_input[0][0]              \n",
      "__________________________________________________________________________________________________\n",
      "bidirectional (Bidirectional)   [(None, 8, 64), (Non 13568       embedding[0][0]                  \n",
      "                                                                 embedding_1[0][0]                \n",
      "__________________________________________________________________________________________________\n",
      "lstm_1 (LSTM)                   [(None, 8, 32), (Non 12416       bidirectional[1][0]              \n",
      "__________________________________________________________________________________________________\n",
      "concatenate (Concatenate)       (None, 64)           0           bidirectional[0][1]              \n",
      "                                                                 bidirectional[0][3]              \n",
      "__________________________________________________________________________________________________\n",
      "concatenate_1 (Concatenate)     (None, 64)           0           bidirectional[0][2]              \n",
      "                                                                 bidirectional[0][4]              \n",
      "__________________________________________________________________________________________________\n",
      "lstm_2 (LSTM)                   [(None, 8, 64), (Non 24832       lstm_1[0][0]                     \n",
      "                                                                 concatenate[0][0]                \n",
      "                                                                 concatenate_1[0][0]              \n",
      "__________________________________________________________________________________________________\n",
      "bahdanau_attention (BahdanauAtt ((None, 8, 64), (Non 8256        bidirectional[0][0]              \n",
      "                                                                 lstm_2[0][0]                     \n",
      "__________________________________________________________________________________________________\n",
      "concatenate_2 (Concatenate)     (None, 8, 128)       0           lstm_2[0][0]                     \n",
      "                                                                 bahdanau_attention[0][0]         \n",
      "__________________________________________________________________________________________________\n",
      "dense (Dense)                   (None, 8, 4660)      601140      concatenate_2[0][0]              \n",
      "__________________________________________________________________________________________________\n",
      "dense_1 (Dense)                 (None, 8, 9321)      43445181    dense[0][0]                      \n",
      "==================================================================================================\n",
      "Total params: 44,478,233\n",
      "Trainable params: 44,478,233\n",
      "Non-trainable params: 0\n",
      "__________________________________________________________________________________________________\n",
      "None\n"
     ]
    }
   ],
   "source": [
    "print(model.model.summary())"
   ]
  },
  {
   "cell_type": "code",
   "execution_count": 13,
   "metadata": {
    "execution": {
     "iopub.execute_input": "2021-08-12T17:54:31.785108Z",
     "iopub.status.busy": "2021-08-12T17:54:31.784751Z",
     "iopub.status.idle": "2021-08-12T17:54:32.331558Z",
     "shell.execute_reply": "2021-08-12T17:54:32.330398Z",
     "shell.execute_reply.started": "2021-08-12T17:54:31.785078Z"
    }
   },
   "outputs": [
    {
     "data": {
      "image/png": "[encoded data removed]",
      "text/plain": [
       "<IPython.core.display.Image object>"
      ]
     },
     "execution_count": 13,
     "metadata": {},
     "output_type": "execute_result"
    }
   ],
   "source": [
    "plot_model(model.model)"
   ]
  },
  {
   "cell_type": "code",
   "execution_count": null,
   "metadata": {},
   "outputs": [],
   "source": [
    "model.train(encoder_input = encoder_input_train, decoder_input = decoder_input_train, decoder_output = decoder_output_train, encoder_input_val = encoder_input_val, decoder_input_val = decoder_input_val, decoder_output_val = decoder_output_val,  batch_size = 512, epoch = 40)"
   ]
  },
  {
   "cell_type": "code",
   "execution_count": null,
   "metadata": {
    "execution": {
     "iopub.execute_input": "2021-08-03T14:04:04.757083Z",
     "iopub.status.busy": "2021-08-03T14:04:04.756669Z",
     "iopub.status.idle": "2021-08-03T14:04:05.05313Z",
     "shell.execute_reply": "2021-08-03T14:04:05.052056Z",
     "shell.execute_reply.started": "2021-08-03T14:04:04.757052Z"
    }
   },
   "outputs": [],
   "source": [
    "model.plot_model_loss(40)"
   ]
  },
  {
   "cell_type": "code",
   "execution_count": null,
   "metadata": {
    "execution": {
     "iopub.execute_input": "2021-08-03T14:04:07.706893Z",
     "iopub.status.busy": "2021-08-03T14:04:07.706472Z",
     "iopub.status.idle": "2021-08-03T14:04:07.908304Z",
     "shell.execute_reply": "2021-08-03T14:04:07.907188Z",
     "shell.execute_reply.started": "2021-08-03T14:04:07.706855Z"
    }
   },
   "outputs": [],
   "source": [
    "model.plot_model_acc(40)"
   ]
  },
  {
   "cell_type": "code",
   "execution_count": null,
   "metadata": {
    "execution": {
     "iopub.execute_input": "2021-08-03T14:04:12.646439Z",
     "iopub.status.busy": "2021-08-03T14:04:12.646078Z",
     "iopub.status.idle": "2021-08-03T14:05:43.313837Z",
     "shell.execute_reply": "2021-08-03T14:05:43.312742Z",
     "shell.execute_reply.started": "2021-08-03T14:04:12.646409Z"
    }
   },
   "outputs": [],
   "source": [
    "model.model.evaluate([encoder_input_test, decoder_input_test], decoder_output_test)"
   ]
  },
  {
   "cell_type": "code",
   "execution_count": null,
   "metadata": {},
   "outputs": [],
   "source": []
  }
 ],
 "metadata": {
  "kernelspec": {
   "display_name": "Python 3",
   "language": "python",
   "name": "python3"
  },
  "language_info": {
   "codemirror_mode": {
    "name": "ipython",
    "version": 3
   },
   "file_extension": ".py",
   "mimetype": "text/x-python",
   "name": "python",
   "nbconvert_exporter": "python",
   "pygments_lexer": "ipython3",
   "version": "3.8.5"
  }
 },
 "nbformat": 4,
 "nbformat_minor": 4
}
